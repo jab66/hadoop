{
 "cells": [
  {
   "cell_type": "markdown",
   "id": "04199aa2-91c8-419f-a743-c3157b313169",
   "metadata": {
    "tags": []
   },
   "source": [
    "# Librerias"
   ]
  },
  {
   "cell_type": "code",
   "execution_count": 1,
   "id": "3ac6c7ac-1a5d-4e21-8e3a-27eceb07f75a",
   "metadata": {},
   "outputs": [],
   "source": [
    "# Librerias\n",
    "import pandas as pd\n",
    "import os\n",
    "import warnings\n",
    "\n",
    "# Modulos\n",
    "from modules.oracle_connection import set_engine\n",
    "from connections import source, target\n",
    "from queries.queries_dim import Q_MOTIVO_BLOQUEO_SOURCE, Q_MOTIVO_BLOQUEO_TARGET\n",
    "\n",
    "# warnings\n",
    "warnings.filterwarnings(\"ignore\")"
   ]
  },
  {
   "cell_type": "markdown",
   "id": "81f477af-6cf1-4317-8ffa-14c18f547dcb",
   "metadata": {
    "tags": []
   },
   "source": [
    "# Extractor de datos"
   ]
  },
  {
   "cell_type": "code",
   "execution_count": 2,
   "id": "936ea3f8-2f5a-49db-a381-531abd2b03eb",
   "metadata": {},
   "outputs": [],
   "source": [
    "from sqlalchemy import text\n",
    "def extract_data(conexion_str, query):\n",
    "    \n",
    "    engine = set_engine(conexion_str)\n",
    "    query = text(query)\n",
    "    \n",
    "    with engine.begin() as conn:\n",
    "        df = pd.read_sql_query(query, conn)\n",
    "    \n",
    "    return df"
   ]
  },
  {
   "cell_type": "markdown",
   "id": "e09060c6-6aa9-449a-a181-a2ac67e412fd",
   "metadata": {
    "tags": []
   },
   "source": [
    "# Loader"
   ]
  },
  {
   "cell_type": "code",
   "execution_count": 3,
   "id": "5e39fd51-0039-4dc1-b01b-31fb645fdb53",
   "metadata": {},
   "outputs": [],
   "source": [
    "def load_data(df, table_name, schemaDB, conexion_str = None):\n",
    "    \n",
    "    if conexion_str==None:\n",
    "        output = './data'\n",
    "        filename = os.path.join(output, table_name + '.csv')\n",
    "        df.to_csv(filename, index=False, sep=';', decimal=',')\n",
    "    \n",
    "    else:\n",
    "        engine = set_engine(conexion_str)\n",
    "    \n",
    "        with engine.begin() as conn:\n",
    "            df.to_sql(name= table_name, con=conn, \n",
    "                      if_exists = 'append', index=False, \n",
    "                      chunksize=25000, schema= schemaDB)"
   ]
  },
  {
   "cell_type": "markdown",
   "id": "8c86fe8d-d3f9-485f-ad5b-5637a1135bd6",
   "metadata": {
    "tags": []
   },
   "source": [
    "# Extract"
   ]
  },
  {
   "cell_type": "code",
   "execution_count": 4,
   "id": "1398a050-b503-465b-b8f8-e36323931975",
   "metadata": {},
   "outputs": [],
   "source": [
    "df_motivo_bloqueo_source = extract_data(source, Q_MOTIVO_BLOQUEO_SOURCE)\n",
    "df_motivo_bloqueo_target = extract_data(target, Q_MOTIVO_BLOQUEO_TARGET)"
   ]
  },
  {
   "cell_type": "markdown",
   "id": "985f10e7-627e-497a-b2a8-b70c1b959c88",
   "metadata": {
    "tags": []
   },
   "source": [
    "# Transform"
   ]
  },
  {
   "cell_type": "markdown",
   "id": "9e0095b8-19c3-4e03-bf77-44ff39bcdf28",
   "metadata": {
    "tags": []
   },
   "source": [
    "# Load"
   ]
  },
  {
   "cell_type": "code",
   "execution_count": 5,
   "id": "713425a1-e057-4bb3-b2d0-3b9212d86ae0",
   "metadata": {},
   "outputs": [],
   "source": [
    "# se hace un merge entre las dos tablas, la de origen y destino\n",
    "merged = pd.merge(df_motivo_bloqueo_source, df_motivo_bloqueo_target, how='outer', indicator=True)"
   ]
  },
  {
   "cell_type": "code",
   "execution_count": 6,
   "id": "797cf2af-9131-496e-a6a4-17671d88249b",
   "metadata": {},
   "outputs": [],
   "source": [
    "# se genera un dataframe con las filas que sean distintas entre ambas tablas\n",
    "df_diff = merged[merged['_merge'] == 'left_only']"
   ]
  },
  {
   "cell_type": "code",
   "execution_count": 7,
   "id": "3c276238-c542-41ef-b7e0-15480031f07a",
   "metadata": {},
   "outputs": [],
   "source": [
    "# se obtine la cantidad de filas que estan en el origen y no en el target\n",
    "num_filas = len(df_diff)"
   ]
  },
  {
   "cell_type": "code",
   "execution_count": 8,
   "id": "81a1a542-514e-4f33-8ccd-d806d6163d31",
   "metadata": {},
   "outputs": [
    {
     "name": "stdout",
     "output_type": "stream",
     "text": [
      "   id_motivo_bloqueo desc_motivo_bloqueo\n",
      "0                  0        NO BLOQUEADO\n",
      "Cantidad de filas insertadas 1\n"
     ]
    }
   ],
   "source": [
    "if num_filas > 0:\n",
    "    columnas = ['id_motivo_bloqueo','desc_motivo_bloqueo']\n",
    "    table_name = 'LT_MOTIVO_BLOQUEO_PALLETS_WF'        \n",
    "    schema = 'DSSADMIN'\n",
    "    load_data(df_diff[columnas], table_name, schema, conexion_str = target)\n",
    "    print(df_diff[columnas])\n",
    "\n",
    "print(f\"Cantidad de filas insertadas {num_filas}\")"
   ]
  },
  {
   "cell_type": "code",
   "execution_count": null,
   "id": "237ed3b8-f53a-4789-af27-e661f96ee82f",
   "metadata": {},
   "outputs": [],
   "source": []
  },
  {
   "cell_type": "code",
   "execution_count": null,
   "id": "d61cb3c4-7bb5-4c3a-b38d-cea134571262",
   "metadata": {},
   "outputs": [],
   "source": []
  }
 ],
 "metadata": {
  "kernelspec": {
   "display_name": "Data Science (Standard)",
   "language": "python",
   "name": "data_science_standard"
  },
  "language_info": {
   "codemirror_mode": {
    "name": "ipython",
    "version": 3
   },
   "file_extension": ".py",
   "mimetype": "text/x-python",
   "name": "python",
   "nbconvert_exporter": "python",
   "pygments_lexer": "ipython3",
   "version": "3.9.7"
  }
 },
 "nbformat": 4,
 "nbformat_minor": 5
}
