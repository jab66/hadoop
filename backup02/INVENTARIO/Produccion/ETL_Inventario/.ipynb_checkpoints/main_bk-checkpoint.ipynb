{
 "cells": [
  {
   "cell_type": "markdown",
   "id": "e84f4799-5a6d-43cd-96f9-795004cac903",
   "metadata": {
    "tags": []
   },
   "source": [
    "# Librerias"
   ]
  },
  {
   "cell_type": "code",
   "execution_count": 1,
   "id": "07ebfe90-7f89-4746-a341-1a187dd59198",
   "metadata": {},
   "outputs": [],
   "source": [
    "# Librerias\n",
    "import pandas as pd\n",
    "import warnings\n",
    "import yaml\n",
    "import os\n",
    "import datetime\n",
    "\n",
    "# Modulos\n",
    "from modules.oracle_connection import set_engine\n",
    "from connections import source, target\n",
    "from queries.queries import Q_UBICACIONES, Q_UBICACIONES_PALLETS, Q_ANDENES, Q_ANDENES_PALLETS_ENTRADA, Q_ANDENES_PALLETS_SALIDA, Q_PRODUCTOS\n",
    "from validators.validators import validators\n",
    "\n",
    "# warnings\n",
    "warnings.filterwarnings(\"ignore\")"
   ]
  },
  {
   "cell_type": "markdown",
   "id": "9830b60b-74f2-47a7-8846-f5470d38e8cd",
   "metadata": {
    "tags": []
   },
   "source": [
    "# Funciones"
   ]
  },
  {
   "cell_type": "markdown",
   "id": "1e871c38-f6f6-4800-b22e-9bc93bd466c0",
   "metadata": {
    "tags": []
   },
   "source": [
    "## Extractor de datos"
   ]
  },
  {
   "cell_type": "code",
   "execution_count": 2,
   "id": "a32feb9e-d3ff-486a-9893-3df03ce42c7a",
   "metadata": {},
   "outputs": [],
   "source": [
    "from sqlalchemy import text\n",
    "def extract_data(conexion_str, query):\n",
    "    \n",
    "    engine = set_engine(conexion_str)\n",
    "    query = text(query)\n",
    "    \n",
    "    with engine.begin() as conn:\n",
    "        df = pd.read_sql_query(query, conn)\n",
    "    \n",
    "    return df"
   ]
  },
  {
   "cell_type": "markdown",
   "id": "3e947678-0f2c-41d5-a0b8-09cb643d8790",
   "metadata": {
    "tags": []
   },
   "source": [
    "## Loader"
   ]
  },
  {
   "cell_type": "code",
   "execution_count": 3,
   "id": "93b9f5b3-566d-4cc2-aad2-fd19a9117954",
   "metadata": {},
   "outputs": [],
   "source": [
    "def load_data(df, table_name, schemaDB, conexion_str = None):\n",
    "    \n",
    "    if conexion_str==None:\n",
    "        output = './data'\n",
    "        # name = [name for name, obj in globals().items() if id(obj) == id(df)][0]\n",
    "        filename = os.path.join(output, table_name + '.csv')\n",
    "        df.to_csv(filename, index=False, sep=';', decimal=',')\n",
    "    \n",
    "    else:\n",
    "        engine = set_engine(conexion_str)\n",
    "    \n",
    "        with engine.begin() as conn:\n",
    "            df.to_sql(name= table_name, con=conn, \n",
    "                      if_exists = 'append', index=False, \n",
    "                      chunksize=25000, schema= schemaDB)\n"
   ]
  },
  {
   "cell_type": "markdown",
   "id": "54dcdcbf-772c-4ee1-8980-efc3e9995d86",
   "metadata": {
    "tags": []
   },
   "source": [
    "## Utils"
   ]
  },
  {
   "cell_type": "markdown",
   "id": "628a4afd-f2fc-4387-a50e-99f3e399340f",
   "metadata": {},
   "source": [
    "### Funciones de validacion"
   ]
  },
  {
   "cell_type": "code",
   "execution_count": 4,
   "id": "78f12db4-1a33-43b5-ba7e-eceb002862cc",
   "metadata": {},
   "outputs": [],
   "source": [
    "def date_validator(input, dateformat='%Y-%m-%d', default = '1900-01-01'):\n",
    "    \n",
    "    \"\"\"\n",
    "    Transforma un valor tipo str a fecha con un formato pre-establecido. Si no puede hacerlo,\n",
    "    devuelve un valor de fecha por defecto.\n",
    "    \"\"\"\n",
    "    \n",
    "    default_date = datetime.datetime.strptime(default, dateformat)\n",
    "    current_year = datetime.datetime.now().year\n",
    "    max_year = current_year + 5\n",
    "\n",
    "    try:\n",
    "        date_year = datetime.datetime.strptime(input, dateformat).date().year\n",
    "        if date_year>max_year:\n",
    "            return default_date\n",
    "        else:\n",
    "            return datetime.datetime.strptime(input, dateformat).date()\n",
    "    except:\n",
    "        return default_date\n",
    "        \n",
    "\n",
    "def dataframe_date_validator(df, cols):\n",
    "    \n",
    "    \"\"\"\n",
    "    Transforma los campos cols de un dataframe a fecha en un formato preestablecido. Si no puede hacerlo,\n",
    "    devuelve un valor de fecha por defecto.\n",
    "    \"\"\"\n",
    "    \n",
    "    for key, value in cols.items():\n",
    "        \n",
    "        df[key] = df[key].astype(str)\n",
    "        df[key] = df[key].apply(lambda x: date_validator(x, dateformat=value['dateformat'], default = value['default']))\n",
    "\n",
    "    return df   "
   ]
  },
  {
   "cell_type": "markdown",
   "id": "6d93d68c-0658-43dc-8dbe-dccfc2a7e7f3",
   "metadata": {
    "tags": []
   },
   "source": [
    "# EXTRACT"
   ]
  },
  {
   "cell_type": "markdown",
   "id": "cdfc421d-b328-4736-8c15-e9359dca5711",
   "metadata": {
    "tags": []
   },
   "source": [
    "###  Levanto tablas desde el origen\n",
    "\n",
    "<div style=\"display: inline-block\">\n",
    "\n",
    "    \n",
    "| Tabla   origen                | dataframe               |\n",
    "|:------------------------------|:------------------------|\n",
    "| Mastro de ubicaciones         | ubicaciones             |\n",
    "| Pallets por ubicación         | ubicaciones_pallets     |\n",
    "| Maestro de andenes            | andenes                 |\n",
    "| Pallets de andenes de entrada | andenes_pallets_entrada |\n",
    "| Pallets de andenes de salida  | andenes_pallets_salida  |\n",
    "| Maestro de productos          | dim_productos           |\n",
    "\n",
    "</div>\n",
    "\n"
   ]
  },
  {
   "cell_type": "code",
   "execution_count": 5,
   "id": "347c8dcd-cef8-4177-90e2-12a0e840cc21",
   "metadata": {},
   "outputs": [],
   "source": [
    "#%%time\n",
    "# Levanto los dataframes a utilizar y guardo la data cruda\n",
    "\n",
    "# UBICACIONES\n",
    "# Maestro de ubicaciones\n",
    "df_ubicaciones = extract_data(source, Q_UBICACIONES)\n",
    "#table_name = 'Ubicaciones'\n",
    "#schema = 'dssadmin'\n",
    "#load_data(df_ubicaciones, table_name, schema, conexion_str = None)\n",
    "\n",
    "# Pallets en ubicaciones\n",
    "df_ubicaciones_pallets = extract_data(source, Q_UBICACIONES_PALLETS)\n",
    "#table_name = 'Pallets_ubicaciones'\n",
    "#schema = 'dssadmin'\n",
    "#load_data(df_ubicaciones, table_name, schema, conexion_str = None)\n",
    "\n",
    "# ANDENES\n",
    "# Maestro de andenes\n",
    "df_andenes = extract_data(source, Q_ANDENES)\n",
    "#table_name = 'Andenes'\n",
    "#schema = 'dssadmin'\n",
    "#load_data(df_andenes, table_name, schema, conexion_str = None)\n",
    "\n",
    "# Pallets en andenes entrada\n",
    "df_andenes_pallets_entrada = extract_data(source, Q_ANDENES_PALLETS_ENTRADA)\n",
    "#table_name = 'Pallets_andenes_entrada'\n",
    "#schema = 'dssadmin'\n",
    "#load_data(df_andenes_pallets_entrada, table_name, schema, conexion_str = None)\n",
    "\n",
    "# Pallets en andenes salida\n",
    "df_andenes_pallets_salida = extract_data(source, Q_ANDENES_PALLETS_SALIDA)\n",
    "#table_name = 'Pallets_andenes_salida'\n",
    "#schema = 'dssadmin'\n",
    "#load_data(df_andenes_pallets_salida, table_name, schema, conexion_str = None)\n",
    "\n",
    "# Maestro de productos\n",
    "df_productos = extract_data(target, Q_PRODUCTOS)\n",
    "#table_name = 'dim_productos'\n",
    "#schema = 'dssadmin'\n",
    "#load_data(df_productos, table_name, schema, conexion_str = None)"
   ]
  },
  {
   "cell_type": "markdown",
   "id": "bdde40aa-6abb-42ec-ace3-60c675274ea4",
   "metadata": {
    "tags": []
   },
   "source": [
    "# TRANSFORM"
   ]
  },
  {
   "cell_type": "markdown",
   "id": "8d726412-ef7f-4acf-80cb-e73dda76ef9d",
   "metadata": {
    "tags": []
   },
   "source": [
    "### Generar tabla de ubicaciones\n",
    "\n",
    "<div style=\"display: inline-block\">\n",
    "    \n",
    "| # | Operación                                | Dataframe      |\n",
    "|---|------------------------------------------|----------------|\n",
    "| 1 | Join Maestro Ubicaciones con pallets     | bt_ubicaciones |\n",
    "| 2 | Calculo campo pallets                    | bt_ubicaciones |\n",
    "| 3 | Calculo campo cantidad_pallets_ubicacion | bt_ubicaciones |\n",
    "| 4 | Correccion de estados                    | bt_ubicaciones |\n",
    "    \n",
    "</div>"
   ]
  },
  {
   "cell_type": "code",
   "execution_count": 6,
   "id": "f1f7e08d-2905-4c14-ae3d-401332261996",
   "metadata": {},
   "outputs": [],
   "source": [
    "primary_id = ['id_empresa','id_almacen','id_zona','id_pasillo','id_ubicacion']\n",
    "\n",
    "# ADECUACION DE LAS UBICACIONES -------------------------------------------\n",
    "\n",
    "# 1- Join de maestro de ubicaciones y pallets por ubicacion\n",
    "df_ubicaciones_bt = pd.merge(df_ubicaciones, df_ubicaciones_pallets, how= 'left', on= primary_id)\n",
    "\n",
    "\n",
    "# 2- Calculo de campo pallets\n",
    "df_ubicaciones_bt.id_pallet.fillna(0, inplace=True)\n",
    "df_ubicaciones_bt['pallets'] = df_ubicaciones_bt['id_pallet'].apply(lambda x: 1 if x>0 else 0)\n",
    "\n",
    "\n",
    "# 3- Calculo la cantidad de pallets por ubicacion\n",
    "df_ubicaciones_bt['pallets_ubicacion'] = df_ubicaciones_bt.groupby(primary_id)['pallets'].transform('sum')\n",
    "\n",
    "\n",
    "# 4- Correccion de estados\n",
    "def estados(id_estado_actual, capacidad_ubicacion, pallets_ubicacion):\n",
    "    \n",
    "    if id_estado_actual == 'I':\n",
    "        return 'I'\n",
    "    \n",
    "    elif pallets_ubicacion == 0:\n",
    "        return 'L'\n",
    "    \n",
    "    elif pallets_ubicacion==capacidad_ubicacion:\n",
    "        return 'O'\n",
    "    \n",
    "    else:\n",
    "        return 'P'\n",
    "\n",
    "df_ubicaciones_bt['id_estado_ubicacion'] = df_ubicaciones_bt.apply(lambda x: estados(x.id_estado_ubicacion, x.capacidad_ubicacion, x.pallets_ubicacion), axis=1)\n",
    "#df_ubicaciones_bt.head()\n"
   ]
  },
  {
   "cell_type": "markdown",
   "id": "95e34231-cec2-491a-9de1-7750124b662a",
   "metadata": {
    "tags": []
   },
   "source": [
    "### Generar tabla de andenes\n",
    "\n",
    "<div style=\"display: inline-block\">\n",
    "    \n",
    "| # | Operación                                                         | Dataframe       |\n",
    "|---|-------------------------------------------------------------------|-----------------|\n",
    "| 1 | Union Pallets de entrada con Pallets de salida en Pallets Andenes | Pallets_Andenes |\n",
    "| 2 | Join Maestro de Andenes con Pallets Andenes                       | bt_andenes      |\n",
    "    \n",
    "</div>"
   ]
  },
  {
   "cell_type": "code",
   "execution_count": 7,
   "id": "4da4fd5f-37b5-48df-9afd-b9af29938e2b",
   "metadata": {},
   "outputs": [],
   "source": [
    "# ADECUACION DE LOS ANDENES -----------------------------------------------\n",
    "\n",
    "# 1- Union Pallets de entrada con Pallets de salida en Pallets Andenes\n",
    "df_andenes_pallets_entrada['tipo_anden'] = 'Entrada'\n",
    "df_andenes_pallets_salida['tipo_anden'] = 'Salida'\n",
    "df_andenes_pallets = pd.concat([df_andenes_pallets_entrada, df_andenes_pallets_salida], axis=0)\n",
    "\n",
    "# merge de los pallets de andenes con la dimension de producto\n",
    "# df_andenes_pallets = pd.merge(df_andenes_pallets, df_productos, how= 'left', on= ['id_producto'])\n",
    "\n",
    "# 2- Join de maestro de andenes y pallets por anden\n",
    "df_andenes_bt = pd.merge(df_andenes, df_andenes_pallets, how= 'left', on= primary_id)\n",
    "\n",
    "# Agrego la metrica de pallets\n",
    "df_andenes_bt.id_pallet.fillna(0, inplace=True)\n",
    "\n",
    "# Calculo la variable pallets\n",
    "df_andenes_bt['pallets'] = df_andenes_bt['id_pallet'].apply(lambda x: 1 if x>0 else 0)"
   ]
  },
  {
   "cell_type": "markdown",
   "id": "ac6eb39d-80d1-4173-aa9f-d2abe30ba431",
   "metadata": {
    "tags": []
   },
   "source": [
    "### Generar base total BT\n",
    "\n",
    "<div style=\"display: inline-block\">\n",
    "    \n",
    "| # | Operación                       | Dataframe     |\n",
    "|---|---------------------------------|---------------|\n",
    "| 1 | Union de ubicaciones con andenes | bt_inventario |\n",
    "| 2 | Join de inventario con dim producto  | bt_inventario |\n",
    "| 3 | Adecuacion de tipos de datos    | bt_inventario |\n",
    "| 4 | Llenado de valores nulos        | bt_inventario |\n",
    "    \n",
    "</div>"
   ]
  },
  {
   "cell_type": "code",
   "execution_count": 8,
   "id": "76c2e335-7c71-48bf-93c9-de8168783b4c",
   "metadata": {},
   "outputs": [],
   "source": [
    "# 1- Unificacion de ubicaciones con andenes\n",
    "df_BT_inventario = pd.concat([df_ubicaciones_bt, df_andenes_bt], axis=0)\n",
    "\n",
    "##################################################################################################################\n",
    "\n",
    "# 2- Join de inventario_bt con maestro de productos\n",
    "df_BT_inventario['id_producto'] = df_BT_inventario['id_producto'].fillna(0).astype(int)\n",
    "df_BT_inventario = pd.merge(df_BT_inventario, df_productos, how= 'left', on= ['id_producto'])\n",
    "\n",
    "##################################################################################################################\n",
    "\n",
    "\n",
    "# 3- Adecuacion de tipos de datos + 4- Llenado de valores nulos\n",
    "# Correccion de fechas\n",
    "date_cols = {\n",
    "    'fecha_vencimiento':{'dateformat':'%Y-%m-%d %H:%M:%S', 'default': '1900-01-01 00:00:00'},\n",
    "    'id_dia_ingreso_pallet':{'dateformat':'%Y-%m-%d %H:%M:%S', 'default': '1900-01-01 00:00:00'}\n",
    "}  \n",
    "                                                                                                      \n",
    "df_BT_inventario = dataframe_date_validator(df_BT_inventario, date_cols)\n",
    "\n",
    "# Correccion de valores enteros\n",
    "cols_int = [\n",
    "    'id_empresa', 'id_almacen', 'id_tipo_zona', 'id_division_asignada', 'id_consignatario', 'capacidad_ubicacion', \n",
    "    'id_producto', 'id_departamento', 'id_clase', 'id_gran_categoria', 'id_gerente_comercial', 'id_pallet', 'bultos'\n",
    "]\n",
    "\n",
    "df_BT_inventario[cols_int] = df_BT_inventario[cols_int].fillna(0).astype(int)\n",
    "\n",
    "# Correccion de valores float\n",
    "cols_float = ['kilos', 'unidades']\n",
    "df_BT_inventario[cols_float] = df_BT_inventario[cols_float].astype(float).fillna(0.0)\n",
    "\n",
    "\n",
    "# Correccion de valores str\n",
    "cols_str = [\n",
    "    'id_zona', 'id_pasillo','id_ubicacion', 'id_tipo_ubicacion', 'id_tipo_rack',\n",
    "    'id_estado_ubicacion', 'variable_logistica'\n",
    "]\n",
    "df_BT_inventario[cols_str] = df_BT_inventario[cols_str].fillna('s/d').astype('string')\n"
   ]
  },
  {
   "cell_type": "markdown",
   "id": "6222833b-c520-4f92-a774-558d84ebc5c1",
   "metadata": {
    "tags": []
   },
   "source": [
    "### Armado tabla AG_Inventario\n",
    "\n",
    "<div style=\"display: inline-block\">\n",
    "    \n",
    "| # | Operación                             | Dataframe     |\n",
    "|---|---------------------------------------|---------------|\n",
    "| 1 | Groupby - Eliminar pallet \\| Producto | ag_inventario |\n",
    "    \n",
    "</div>"
   ]
  },
  {
   "cell_type": "code",
   "execution_count": 9,
   "id": "aa9b459c-0819-4f07-95ad-909d41344316",
   "metadata": {},
   "outputs": [],
   "source": [
    "# 1 - Armado de la tabla Ag_inventario \n",
    "index_cols_ag = [\n",
    "    'id_dia', 'id_empresa', 'id_almacen', 'id_zona', 'id_pasillo', 'id_ubicacion', \n",
    "    'id_tipo_ubicacion', 'id_tipo_zona', 'id_tipo_rack', 'id_estado_ubicacion', 'id_division_asignada',\n",
    "    'id_departamento', 'id_clase', 'id_gran_categoria', 'id_gerente_comercial', 'id_consignatario'\n",
    "]\n",
    "\n",
    "agg_cols = {\n",
    "    'capacidad_ubicacion': max,\n",
    "    'pallets':sum,\n",
    "    'bultos': sum,\n",
    "    'unidades': sum,\n",
    "    'kilos': sum\n",
    "}\n",
    "\n",
    "df_AG_inventario = df_BT_inventario.groupby(index_cols_ag).agg(agg_cols).reset_index()\n",
    "#df_AG_inventario.head()"
   ]
  },
  {
   "cell_type": "markdown",
   "id": "bcc4a991-18a1-464f-8eb1-e46292e893c3",
   "metadata": {
    "tags": []
   },
   "source": [
    "### Armado tabla AG_Inventario_Evolutivo\n",
    "\n",
    "<div style=\"display: inline-block\">\n",
    "    \n",
    "| # | Operación                             | Dataframe     |\n",
    "|---|---------------------------------------|---------------|\n",
    "| 1 | Calculo metricas de ubicaciones | ag_inventario |\n",
    "| 2 | Groupby - Eliminar ubicación | zona | ag_inventario |\n",
    "    \n",
    "</div>"
   ]
  },
  {
   "cell_type": "code",
   "execution_count": 10,
   "id": "7ab91ead-8aa1-4824-b3a2-1825c5095a6b",
   "metadata": {},
   "outputs": [],
   "source": [
    "# 1- Calculo de las metricas de ubicaciones\n",
    "\n",
    "def calcular_metricas_ubicaciones(df:pd.DataFrame)->pd.DataFrame:\n",
    "    \n",
    "    ubicaciones_totales = (df['id_tipo_zona'] == 1)* 1\n",
    "    ubicaciones_inutilizadas = (df['id_estado_ubicacion'] == 'I')* ubicaciones_totales\n",
    "    ubicaciones_disponibles = (1 - ubicaciones_inutilizadas)*ubicaciones_totales\n",
    "    ubicaciones_libres = (df['id_estado_ubicacion'] == 'L')* ubicaciones_totales\n",
    "    ubicaciones_ocupadas = (df['id_estado_ubicacion'] == 'O')* ubicaciones_totales\n",
    "    ubicaciones_semi_ocupadas = (df['id_estado_ubicacion'] == 'P')* ubicaciones_totales\n",
    "    capacidad_disponible = ubicaciones_disponibles* df['capacidad_ubicacion']\n",
    "        \n",
    "    return ubicaciones_totales, ubicaciones_inutilizadas, ubicaciones_disponibles, ubicaciones_libres, ubicaciones_ocupadas, ubicaciones_semi_ocupadas, capacidad_disponible\n",
    "\n",
    "# Computo los tipos de ubicaciones en métricas\n",
    "cols_ubicaciones = ['ubicaciones','ubicaciones_inutilizadas','ubicaciones_disponibles','ubicaciones_libres','ubicaciones_ocupadas','ubicaciones_semi_ocupadas', 'capacidad_disponible'                   ]\n",
    "\n",
    "df_AG_inventario[cols_ubicaciones] = df_AG_inventario.apply(calcular_metricas_ubicaciones, \n",
    "                                                            axis=1, result_type=\"expand\")\n",
    "\n",
    "# 2- Groupby de la tabla Ag y generacoin de la Ag_Inventario_evolutivo\n",
    "index_cols_ag_ev = [\n",
    "    'id_dia', 'id_empresa', 'id_almacen', 'id_zona',\n",
    "    'id_tipo_ubicacion', 'id_tipo_zona', 'id_tipo_rack', 'id_division_asignada',\n",
    "    'id_departamento', 'id_clase', 'id_gran_categoria', 'id_gerente_comercial', 'id_consignatario'\n",
    "]\n",
    "\n",
    "agg_cols_ev = {\n",
    "    'capacidad_ubicacion': sum,\n",
    "    'pallets':sum,\n",
    "    'bultos': sum,\n",
    "    'unidades': sum,\n",
    "    'kilos': sum,\n",
    "    'ubicaciones':sum,\n",
    "    'ubicaciones_inutilizadas':sum,\n",
    "    'ubicaciones_disponibles':sum,\n",
    "    'ubicaciones_libres':sum,\n",
    "    'ubicaciones_ocupadas':sum,\n",
    "    'ubicaciones_semi_ocupadas':sum,\n",
    "    'capacidad_disponible': sum\n",
    "}\n",
    "\n",
    "df_AG_inventario_evolutivo = df_AG_inventario.groupby(index_cols_ag_ev).agg(agg_cols_ev).reset_index()\n",
    "#df_AG_inventario_evolutivo.head()\n"
   ]
  },
  {
   "cell_type": "markdown",
   "id": "3ebafad2-fd9d-43ba-a856-269f1b4d3931",
   "metadata": {},
   "source": [
    "### Renombrar y eliminar columnas"
   ]
  },
  {
   "cell_type": "code",
   "execution_count": 11,
   "id": "44d4033e-4876-4fe4-9f66-3ae42ce57872",
   "metadata": {},
   "outputs": [],
   "source": [
    "# se renombran las columnas para que coincidan con la estructura de la tabla en base de datos\n",
    "df_BT_inventario.rename(columns={\n",
    "                                'id_departamento': 'id_dpto_gdm',\n",
    "                                'id_pallet': 'nro_pallet',\n",
    "                                'kilos': 'peso',\n",
    "                                'fecha_vencimiento': 'fecha_caducidad',\n",
    "                                'id_dia_ingreso_pallet': 'fecha_ingreso_pallet'\n",
    "                                }, inplace=True)\n",
    "\n",
    "df_AG_inventario.rename(columns={\n",
    "                                'id_departamento': 'id_dpto_gdm',\n",
    "                                'id_consignatario': 'consignatario',\n",
    "                                'kilos': 'peso_pallet'\n",
    "                                }, inplace=True)\n",
    "\n",
    "# se eliminan las columnas que no están en la tabla de base de datos\n",
    "df_BT_inventario = df_BT_inventario.drop(columns=['tipo_anden',\n",
    "                                                 'desc_tipo_zona',\n",
    "                                                 'desc_estado_ubicacion',\n",
    "                                                 'pallets',\n",
    "                                                 'pallets_ubicacion'])\n",
    "\n",
    "df_AG_inventario = df_AG_inventario.drop(columns=['capacidad_disponible'])"
   ]
  },
  {
   "cell_type": "markdown",
   "id": "d52c4030-eaa5-41ad-9691-9229ba4fdc8c",
   "metadata": {
    "tags": []
   },
   "source": [
    "# LOAD"
   ]
  },
  {
   "cell_type": "markdown",
   "id": "0d23cc48-547d-41af-b553-5cc246495c7f",
   "metadata": {
    "tags": []
   },
   "source": [
    "## Carga de tablas en Datawarehouse\n",
    "\n",
    "<div style=\"display: inline-block\">\n",
    "    \n",
    "| # | Operación                                                         | Destino       |\n",
    "|---|-------------------------------------------------------------------|-----------------|\n",
    "| 1 | Carga de inventario_bt a datawarehouse                            | BT_INVENTARIO_WF |\n",
    "| 2 | Carga de inventario_ag a datawarehouse                            | AG_INVENTARIO_WF      |\n",
    "| 3 | Carga de inventario_ag_evolutivo a datawarehouse                            | AG_INVENTARIO_EVOLUTIVO_WF      |\n",
    "    \n",
    "</div>"
   ]
  },
  {
   "cell_type": "code",
   "execution_count": 12,
   "id": "aafc99dd-10a7-4e2e-a3fe-639378b60bfb",
   "metadata": {},
   "outputs": [],
   "source": [
    "#%%time\n",
    "\n",
    "# 1- Carga de inventario_bt a datawarehouse\n",
    "table_name = 'BT_INVENTARIO_WF'        \n",
    "schema = 'DSSADM'\n",
    "load_data(df_BT_inventario, table_name, schema, conexion_str = target)\n",
    "\n",
    "# 2- Carga de la agregada de inventario a datawarehouse\n",
    "table_name = 'AG_INVENTARIO_WF'\n",
    "schema = 'DSSADM'\n",
    "load_data(df_AG_inventario, table_name, schema, conexion_str = target)\n",
    "\n",
    "# 3- Carga de la inventario evolutiva a datawarehouse\n",
    "table_name = 'AG_INVENTARIO_EVOLUTIVO_WF'\n",
    "schema = 'DSSADM'\n",
    "load_data(df_AG_inventario_evolutivo, table_name, schema, conexion_str = target)\n"
   ]
  },
  {
   "cell_type": "markdown",
   "id": "c0b27ed9-79ac-497b-98c8-e563ed8313f5",
   "metadata": {},
   "source": [
    "# Control de Ejecucion"
   ]
  },
  {
   "cell_type": "code",
   "execution_count": 13,
   "id": "1d3b8464-9c03-49de-b6b9-ecaf9de32248",
   "metadata": {},
   "outputs": [
    {
     "data": {
      "text/html": [
       "<div>\n",
       "<style scoped>\n",
       "    .dataframe tbody tr th:only-of-type {\n",
       "        vertical-align: middle;\n",
       "    }\n",
       "\n",
       "    .dataframe tbody tr th {\n",
       "        vertical-align: top;\n",
       "    }\n",
       "\n",
       "    .dataframe thead th {\n",
       "        text-align: right;\n",
       "    }\n",
       "</style>\n",
       "<table border=\"1\" class=\"dataframe\">\n",
       "  <thead>\n",
       "    <tr style=\"text-align: right;\">\n",
       "      <th></th>\n",
       "      <th>mail</th>\n",
       "    </tr>\n",
       "  </thead>\n",
       "  <tbody>\n",
       "    <tr>\n",
       "      <th>0</th>\n",
       "      <td>0</td>\n",
       "    </tr>\n",
       "  </tbody>\n",
       "</table>\n",
       "</div>"
      ],
      "text/plain": [
       "   mail\n",
       "0     0"
      ]
     },
     "execution_count": 13,
     "metadata": {},
     "output_type": "execute_result"
    }
   ],
   "source": [
    "from queries.queries import Q_CONTROL\n",
    "extract_data(target, Q_CONTROL)"
   ]
  },
  {
   "cell_type": "code",
   "execution_count": null,
   "id": "67b023b9-9485-42cc-ad5e-d12975263f0b",
   "metadata": {},
   "outputs": [],
   "source": []
  }
 ],
 "metadata": {
  "kernelspec": {
   "display_name": "Data Science (Standard)",
   "language": "python",
   "name": "data_science_standard"
  },
  "language_info": {
   "codemirror_mode": {
    "name": "ipython",
    "version": 3
   },
   "file_extension": ".py",
   "mimetype": "text/x-python",
   "name": "python",
   "nbconvert_exporter": "python",
   "pygments_lexer": "ipython3",
   "version": "3.9.7"
  },
  "toc-autonumbering": true
 },
 "nbformat": 4,
 "nbformat_minor": 5
}
